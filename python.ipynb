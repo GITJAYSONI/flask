{
 "cells": [
  {
   "cell_type": "code",
   "execution_count": 1,
   "id": "7647ff64",
   "metadata": {},
   "outputs": [
    {
     "name": "stdout",
     "output_type": "stream",
     "text": [
      "jay\n",
      "jayson\n"
     ]
    }
   ],
   "source": [
    "name= \"jay\"\n",
    "Name= \"jayson\"\n",
    "print(name)\n",
    "print(Name)"
   ]
  },
  {
   "cell_type": "code",
   "execution_count": 4,
   "id": "36752a2d",
   "metadata": {},
   "outputs": [
    {
     "name": "stdout",
     "output_type": "stream",
     "text": [
      "You are a minor.\n",
      "Hello, World!\n"
     ]
    }
   ],
   "source": [
    "age = 15 \n",
    "if age > 18:\n",
    "    print(\"You are an adult.\")\n",
    "else:\n",
    "    print(\"You are a minor.\")\n",
    "print(\"Hello, World!\")  \n"
   ]
  },
  {
   "cell_type": "code",
   "execution_count": 5,
   "id": "0baf7e7b",
   "metadata": {},
   "outputs": [
    {
     "name": "stdout",
     "output_type": "stream",
     "text": [
      "55\n"
     ]
    }
   ],
   "source": [
    "total = 1+2+3+4+5+\\\n",
    "        6+7+8+9+10\n",
    "print(total)"
   ]
  },
  {
   "cell_type": "code",
   "execution_count": 6,
   "id": "4d0262c3",
   "metadata": {},
   "outputs": [
    {
     "name": "stdout",
     "output_type": "stream",
     "text": [
      "5 10 15\n"
     ]
    }
   ],
   "source": [
    "x=5; y=10; z=15\n",
    "print(x,y,z)"
   ]
  },
  {
   "cell_type": "code",
   "execution_count": 7,
   "id": "675c82e1",
   "metadata": {},
   "outputs": [],
   "source": [
    "## understand semantics in python \n",
    "# variable assignments\n",
    "age=25 # integer assignment\n",
    "price=19.99 # float assignment\n",
    "name=\"John Doe\" # string assignment"
   ]
  },
  {
   "cell_type": "code",
   "execution_count": 10,
   "id": "2ba2ec5a",
   "metadata": {},
   "outputs": [
    {
     "name": "stdout",
     "output_type": "stream",
     "text": [
      "25 19.99 John Doe\n"
     ]
    }
   ],
   "source": [
    "type(age)      # int\n",
    "type(price)    # float\n",
    "type(name)     # string\n",
    "print(age, price, name)"
   ]
  },
  {
   "cell_type": "code",
   "execution_count": 11,
   "id": "7ea504d9",
   "metadata": {},
   "outputs": [
    {
     "name": "stdout",
     "output_type": "stream",
     "text": [
      "Hello, Alice\n",
      "15\n",
      "Hello, Alice! You are 25 years old.\n",
      "[0, 1, 4, 9, 16, 25, 36, 49, 64, 81]\n",
      "0\n",
      "1\n",
      "4\n",
      "9\n",
      "16\n",
      "25\n",
      "36\n",
      "49\n",
      "64\n",
      "81\n",
      "Hello, World!\n"
     ]
    }
   ],
   "source": [
    "#python is dynamic typed language\n",
    "#no need to declare variable types explicitly\n",
    "#but we can use type hints for better code clarity\n",
    "#example with type hints\n",
    "def greet(name: str) -> str:\n",
    "    return \"Hello, \" + name\n",
    "print(greet(\"Alice\"))\n",
    "#python is case sensitive\n",
    "#age and Age are different variables\n",
    "#use underscores for multi-word variable names\n",
    "#e.g. user_name, total_price, etc.\n",
    "#avoid using reserved keywords as variable names\n",
    "#e.g. if, else, for, while, def, return, etc.\n",
    "#use comments to explain code\n",
    "#single line comment starts with #\n",
    "#multi-line comments can be done using triple quotes\n",
    "\"\"\"\n",
    "This is a multi-line comment\n",
    "that spans multiple lines.\n",
    "\"\"\"\n",
    "#use indentation to define code blocks\n",
    "#typically 4 spaces per indentation level\n",
    "#use spaces instead of tabs\n",
    "#consistent indentation is crucial in python\n",
    "#use semicolons to separate multiple statements on a single line\n",
    "#but it's not recommended for readability\n",
    "#prefer writing each statement on a new line\n",
    "#use backslash \\ to continue a statement on the next line\n",
    "#but it's better to use parentheses for multi-line expressions\n",
    "#e.g. total = (1 + 2 + 3 +\n",
    "#              4 + 5 + 6)\n",
    "#use built-in functions and libraries for common tasks\n",
    "#e.g. len(), range(), math, os, sys, etc.\n",
    "#use virtual environments to manage project dependencies\n",
    "#e.g. venv, conda, pipenv, etc.\n",
    "#use pip to install packages\n",
    "#e.g. pip install package_name\n",
    "#use requirements.txt to list project dependencies\n",
    "#e.g. pip freeze > requirements.txt\n",
    "#use version control systems like git to track code changes\n",
    "#e.g. git init, git add, git commit, etc.\n",
    "\n",
    "#use docstrings to document functions and classes\n",
    "def add(a: int, b: int) -> int:\n",
    "    \"\"\"\n",
    "    This function adds two integers and returns the result.\n",
    "    \"\"\"\n",
    "    return a + b\n",
    "\n",
    "print(add(5, 10)) \n",
    "#use f-strings for formatted strings (Python 3.6+)\n",
    "name = \"Alice\"\n",
    "age = 25\n",
    "print(f\"Hello, {name}! You are {age} years old.\")\n",
    "#use list comprehensions for concise list creation\n",
    "squares = [x**2 for x in range(10)]\n",
    "print(squares)\n",
    "#use generators for memory-efficient iteration\n",
    "def generate_squares(n: int):\n",
    "    for x in range(n):\n",
    "        yield x**2\n",
    "for square in generate_squares(10):\n",
    "    print(square)\n",
    "#!/usr/bin/env python3\n",
    "# -*- coding: utf-8 -*-\n",
    "\"\"\"\n",
    "Created on Sat Oct 14 12:00:00 2023\n",
    "\n",
    "@Author: Firstname Lastname\n",
    "\"\"\"\n",
    "# This is a sample Python script.\n",
    "# Press Shift+F10 to execute it or replace it with your code.\n",
    "# Press Double Shift to search everywhere for classes, files, tool windows, actions, and settings\n",
    "def main():\n",
    "    print(\"Hello, World!\")    \n",
    "if __name__ == \"__main__\":\n",
    "    main()\n"
   ]
  },
  {
   "cell_type": "code",
   "execution_count": null,
   "id": "439b1618",
   "metadata": {},
   "outputs": [],
   "source": []
  }
 ],
 "metadata": {
  "kernelspec": {
   "display_name": "Python 3",
   "language": "python",
   "name": "python3"
  },
  "language_info": {
   "codemirror_mode": {
    "name": "ipython",
    "version": 3
   },
   "file_extension": ".py",
   "mimetype": "text/x-python",
   "name": "python",
   "nbconvert_exporter": "python",
   "pygments_lexer": "ipython3",
   "version": "3.10.0"
  }
 },
 "nbformat": 4,
 "nbformat_minor": 5
}
